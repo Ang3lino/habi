{
 "cells": [
  {
   "cell_type": "code",
   "execution_count": 1,
   "id": "f98a8bcc",
   "metadata": {},
   "outputs": [],
   "source": [
    "\n",
    "import multiprocessing\n",
    "import itertools\n",
    "import pandas as pd\n",
    "import os\n",
    "import mysql.connector\n",
    "\n",
    "from mysql.connector import Error\n",
    "from tqdm import tqdm\n",
    "from pprint import pprint\n",
    "from multiprocessing import Process\n"
   ]
  },
  {
   "cell_type": "code",
   "execution_count": 2,
   "id": "d1390975",
   "metadata": {},
   "outputs": [],
   "source": [
    "# %pip install mysql-connector-python"
   ]
  },
  {
   "cell_type": "code",
   "execution_count": 3,
   "id": "1924627d",
   "metadata": {},
   "outputs": [],
   "source": [
    "\n",
    "# %pip install Unidecode nltk "
   ]
  },
  {
   "cell_type": "code",
   "execution_count": null,
   "id": "0b7699e5",
   "metadata": {},
   "outputs": [],
   "source": [
    "\n",
    "import nltk\n",
    "import unidecode\n",
    "import operator\n",
    "\n",
    "from nltk.corpus import stopwords\n",
    "from difflib import SequenceMatcher\n",
    "\n",
    "\n",
    "def similar(a, b):\n",
    "    return SequenceMatcher(None, a, b).ratio()"
   ]
  },
  {
   "cell_type": "code",
   "execution_count": 7,
   "id": "494e1adf",
   "metadata": {},
   "outputs": [
    {
     "name": "stdout",
     "output_type": "stream",
     "text": [
      "Connected to MySQL Server version  8.0.26-google\n",
      "You're connected to database:  ('propiedades',)\n",
      "MySQL connection is closed\n"
     ]
    }
   ],
   "source": [
    "\n",
    "\n",
    "def get_conn():\n",
    "    return mysql.connector.connect(\n",
    "            host='192.168.0.217',\n",
    "            database='propiedades',\n",
    "            user='root',\n",
    "            password='propiedades')\n",
    "\n",
    "def test_connection():\n",
    "    try:\n",
    "        connection = get_conn()\n",
    "        if connection.is_connected():\n",
    "            db_Info = connection.get_server_info()\n",
    "            print(\"Connected to MySQL Server version \", db_Info)\n",
    "            cursor = connection.cursor()\n",
    "            cursor.execute(\"select database();\")\n",
    "            record = cursor.fetchone()\n",
    "            print(\"You're connected to database: \", record)\n",
    "    except Error as e:\n",
    "        print(\"Error while connecting to MySQL\", e)\n",
    "    finally:\n",
    "        if connection.is_connected():\n",
    "            cursor.close()\n",
    "            connection.close()\n",
    "            print(\"MySQL connection is closed\")\n",
    "\n",
    "\n",
    "test_connection()\n",
    "connection = get_conn()\n",
    "cursor = connection.cursor()\n",
    "\n",
    "\n",
    "def read_all(query, cursor=cursor):\n",
    "    cursor.execute(query)\n",
    "    return cursor.fetchall()\n",
    "\n",
    "def print_all(query, cursor=cursor):\n",
    "    records = read_all(query, cursor)\n",
    "    pprint(records)\n"
   ]
  },
  {
   "cell_type": "code",
   "execution_count": 8,
   "id": "a67f848e",
   "metadata": {},
   "outputs": [],
   "source": [
    "\n",
    "\n",
    "# unique_states = [('Tamaulipas',), ('México',), ('Sinaloa',), ('Campeche',), ('DF / CDMX',), ('Coahuila de Zaragoza',), ('Chihuahua',), ('Durango',), ('Jalisco',), ('Colima',), ('Veracruz de Ignacio de la Llave',), ('Guanajuato',), ('Puebla',), ('Sonora',), ('Oaxaca',), (None,), ('Chiapas',), ('Quintana Roo',), ('Michoacán de Ocampo',), ('Baja California Sur',), ('Aguascalientes',), ('Baja California',), ('Yucatán',), ('Nayarit',), ('Guerrero',), ('Morelos',), ('Nuevo León',), ('Querétaro',), ('Hidalgo',), ('Tlaxcala',), ('Tabasco',), ('San Luis Potosí',), ('Zacatecas',), ('Distrito Federal',)]\n",
    "unique_states = read_all(\"SELECT DISTINCT state FROM sepomex\", cursor)\n",
    "unique_states.sort()\n",
    "result = read_all('DESC sepomex', cursor)\n",
    "fields = [t[0] for t in result]\n"
   ]
  },
  {
   "cell_type": "code",
   "execution_count": 10,
   "id": "7fa13378",
   "metadata": {},
   "outputs": [],
   "source": [
    "\n",
    "\n",
    "# nltk.download(\"stopwords\")\n",
    "stopwords = stopwords.words('spanish')"
   ]
  },
  {
   "cell_type": "code",
   "execution_count": 11,
   "id": "712976d1",
   "metadata": {},
   "outputs": [],
   "source": [
    "\n",
    "def download_csv_from_mysql(cursor, unique_states, fields):\n",
    "    n = len(unique_states)\n",
    "    pbar = tqdm(enumerate(unique_states), total=n)\n",
    "    for i, state in pbar:\n",
    "        state = state[0]\n",
    "        query = f\"SELECT {', '.join(fields)} FROM sepomex WHERE state = '{state}'\"\n",
    "        res = read_all(query, cursor)\n",
    "        df = pd.DataFrame(data=res)\n",
    "        df.columns = fields\n",
    "        df.to_csv(f\"csv/{i}.csv\", index=False)\n",
    "        pbar.set_description(state)\n",
    "\n",
    "\n",
    "# download_csv_from_mysql(cursor, unique_states, fields)"
   ]
  },
  {
   "cell_type": "code",
   "execution_count": 12,
   "id": "2af3ce0c",
   "metadata": {},
   "outputs": [],
   "source": [
    "\n",
    "# Permanently changes the pandas settings\n",
    "pd.set_option('display.max_rows', None)\n",
    "pd.set_option('display.max_columns', None)\n",
    "pd.set_option('display.width', None)\n",
    "pd.set_option('display.max_colwidth', None)"
   ]
  },
  {
   "cell_type": "code",
   "execution_count": 13,
   "id": "b98ab18a",
   "metadata": {},
   "outputs": [],
   "source": [
    "\n",
    "def get_df_from_sources(partition_fname):\n",
    "    cols = ['id', 'colony']\n",
    "    df_sql = pd.read_csv(partition_fname)\n",
    "    # print(df_sql)\n",
    "    values_sql = df_sql[~df_sql['colony'].isnull()][cols].values\n",
    "\n",
    "    state_label = df_sql.loc[0,'state']\n",
    "\n",
    "    df_web = pd.read_csv(\"./CPdescarga.csv\", sep=\"|\", encoding='utf8')\n",
    "    subset = df_web[df_web[\"d_estado\"] == state_label]\n",
    "    cols = ['d_codigo', 'd_asenta']\n",
    "    values_web = subset[cols].values\n",
    "\n",
    "    return values_sql, values_web\n"
   ]
  },
  {
   "cell_type": "code",
   "execution_count": 32,
   "id": "d00d7a60",
   "metadata": {},
   "outputs": [],
   "source": [
    "\n",
    "def clean_str(s):\n",
    "    s = s.lower()\n",
    "    tokens = s.split(' ')\n",
    "    new_s = [t for t in tokens if not t in stopwords]\n",
    "    s = ' '.join(new_s)\n",
    "    return unidecode.unidecode(s)\n",
    "\n",
    "def get_data(values_sql, values_web):\n",
    "    threshold = 0.8\n",
    "    data = []  # idsql, idweb, new|update\n",
    "    pbar = tqdm(values_sql, total=len(values_sql))\n",
    "    for i, col_sql in pbar:\n",
    "        sims = [(j, similar(col_sql, col_web), col_web) for j, col_web in values_web]\n",
    "        sims.sort(key=operator.itemgetter(1), reverse=True)\n",
    "        j, sim, col_web = sims[0]\n",
    "        if sim == 0.0:  \n",
    "            data.append([i, col_sql, \"insert\", sims[:5]])\n",
    "        elif 1 > sim and sim > threshold:\n",
    "            data.append([i, col_sql, \"update\", sims[:5]])\n",
    "    return data\n"
   ]
  },
  {
   "cell_type": "code",
   "execution_count": 15,
   "id": "cf08f826",
   "metadata": {},
   "outputs": [],
   "source": [
    "# fnames"
   ]
  },
  {
   "cell_type": "code",
   "execution_count": 26,
   "id": "243b810e",
   "metadata": {},
   "outputs": [],
   "source": [
    "\n",
    "def __load_colony_sims(fname):\n",
    "    values_sql, values_web = get_df_from_sources(\"csv/\" + fname)\n",
    "    values_sql = [(i, clean_str(s)) for i, s in values_sql]\n",
    "    values_web = [(i, clean_str(s)) for i, s in values_web]\n",
    "    data = get_data(values_sql, values_web)\n",
    "    df = pd.DataFrame(data, columns=['sql_id', 'colony_sql_name', 'action_string', 'knn_list'])\n",
    "    df.to_csv(\"result/\" + fname, index=False)\n",
    "\n",
    "# fnames = os.listdir('csv')\n",
    "def load_colony_sims(fnames, safe=True):\n",
    "    n = len(fnames)\n",
    "    for k, fname in enumerate(fnames):\n",
    "        print(\"%d/%d in progress (%s)\" % (k, n, fname))\n",
    "        if safe:\n",
    "            try:\n",
    "                __load_colony_sims(fname)\n",
    "            except Exception as e:\n",
    "                print(\"[!] \" + fname)\n",
    "                print(e)\n",
    "        else:\n",
    "            __load_colony_sims(fname)\n"
   ]
  },
  {
   "cell_type": "code",
   "execution_count": 44,
   "id": "8a32c787",
   "metadata": {},
   "outputs": [
    {
     "data": {
      "text/plain": [
       "[['0.csv', '1.csv', '10.csv', '11.csv'],\n",
       " ['12.csv', '13.csv', '14.csv', '15.csv'],\n",
       " ['16.csv', '17.csv', '18.csv', '19.csv'],\n",
       " ['2.csv', '20.csv', '21.csv', '22.csv'],\n",
       " ['23.csv', '24.csv', '25.csv', '26.csv'],\n",
       " ['27.csv', '28.csv', '29.csv', '3.csv'],\n",
       " ['30.csv', '31.csv', '4.csv', '5.csv'],\n",
       " ['6.csv', '7.csv', '8.csv', '9.csv']]"
      ]
     },
     "execution_count": 44,
     "metadata": {},
     "output_type": "execute_result"
    }
   ],
   "source": [
    "\n",
    "def partitionate_source(src, cpu_count = multiprocessing.cpu_count()):\n",
    "    # cpu_count = multiprocessing.cpu_count()\n",
    "    split_count = len(src) // cpu_count\n",
    "    groups = []\n",
    "    for i in range(0, len(src), split_count):\n",
    "        groups.append(fnames[i:i + split_count])\n",
    "    return groups\n",
    "\n",
    "\n",
    "fnames = os.listdir('csv')\n",
    "# fnames = list(set(os.listdir('csv')) - set(os.listdir('result')))\n",
    "fnames.sort()\n",
    "groups = partitionate_source(fnames)\n",
    "groups"
   ]
  },
  {
   "cell_type": "code",
   "execution_count": 33,
   "id": "a7731f0a",
   "metadata": {},
   "outputs": [
    {
     "name": "stdout",
     "output_type": "stream",
     "text": [
      "0/5 in progress (0.csv)\n",
      "0/5 in progress (13.csv)\n",
      "0/5 in progress (18.csv)0/17 in progress (22.csv)\n",
      "\n"
     ]
    },
    {
     "name": "stderr",
     "output_type": "stream",
     "text": [
      "  0%|          | 0/5069 [00:00<?, ?it/s].09it/s]\n",
      "Process Process-15:\n",
      "Traceback (most recent call last):\n",
      "  File \"/home/angelo/anaconda3/lib/python3.9/multiprocessing/process.py\", line 315, in _bootstrap\n",
      "    self.run()\n",
      "  File \"/home/angelo/anaconda3/lib/python3.9/multiprocessing/process.py\", line 108, in run\n",
      "    self._target(*self._args, **self._kwargs)\n",
      "  File \"/tmp/ipykernel_5656/588305664.py\", line 21, in load_colony_sims\n",
      "    __load_colony_sims(fname)\n",
      "  File \"/tmp/ipykernel_5656/588305664.py\", line 5, in __load_colony_sims\n",
      "    data = get_data(values_sql, values_web)\n",
      "  File \"/tmp/ipykernel_5656/988056184.py\", line 15, in get_data\n",
      "    j, sim, col_web = sims[0]\n",
      "IndexError: list index out of range\n",
      "100%|██████████| 1108/1108 [00:34<00:00, 32.42it/s]\n"
     ]
    },
    {
     "name": "stdout",
     "output_type": "stream",
     "text": [
      "1/17 in progress (23.csv)\n"
     ]
    },
    {
     "name": "stderr",
     "output_type": "stream",
     "text": [
      "  0%|          | 0/4958 [00:00<?, ?it/s]23.23it/s]\n",
      "Process Process-16:\n",
      "Traceback (most recent call last):\n",
      "  File \"/home/angelo/anaconda3/lib/python3.9/multiprocessing/process.py\", line 315, in _bootstrap\n",
      "    self.run()\n",
      "  File \"/home/angelo/anaconda3/lib/python3.9/multiprocessing/process.py\", line 108, in run\n",
      "    self._target(*self._args, **self._kwargs)\n",
      "  File \"/tmp/ipykernel_5656/588305664.py\", line 21, in load_colony_sims\n",
      "    __load_colony_sims(fname)\n",
      "  File \"/tmp/ipykernel_5656/588305664.py\", line 5, in __load_colony_sims\n",
      "    data = get_data(values_sql, values_web)\n",
      "  File \"/tmp/ipykernel_5656/988056184.py\", line 15, in get_data\n",
      "    j, sim, col_web = sims[0]\n",
      "IndexError: list index out of range\n",
      "100%|██████████| 1299/1299 [00:49<00:00, 26.24it/s]\n"
     ]
    },
    {
     "name": "stdout",
     "output_type": "stream",
     "text": [
      "1/5 in progress (1.csv)\n"
     ]
    },
    {
     "name": "stderr",
     "output_type": "stream",
     "text": [
      "100%|██████████| 2228/2228 [03:01<00:00, 12.30it/s]\n"
     ]
    },
    {
     "name": "stdout",
     "output_type": "stream",
     "text": [
      "2/5 in progress (10.csv)\n"
     ]
    },
    {
     "name": "stderr",
     "output_type": "stream",
     "text": [
      "100%|██████████| 5259/5259 [14:09<00:00,  6.19it/s] \n"
     ]
    },
    {
     "name": "stdout",
     "output_type": "stream",
     "text": [
      "1/5 in progress (14.csv)\n"
     ]
    },
    {
     "name": "stderr",
     "output_type": "stream",
     "text": [
      "  0%|          | 0/6169 [00:00<?, ?it/s]  3.49it/s]\n",
      "Process Process-14:\n",
      "Traceback (most recent call last):\n",
      "  File \"/home/angelo/anaconda3/lib/python3.9/multiprocessing/process.py\", line 315, in _bootstrap\n",
      "    self.run()\n",
      "  File \"/home/angelo/anaconda3/lib/python3.9/multiprocessing/process.py\", line 108, in run\n",
      "    self._target(*self._args, **self._kwargs)\n",
      "  File \"/tmp/ipykernel_5656/588305664.py\", line 21, in load_colony_sims\n",
      "    __load_colony_sims(fname)\n",
      "  File \"/tmp/ipykernel_5656/588305664.py\", line 5, in __load_colony_sims\n",
      "    data = get_data(values_sql, values_web)\n",
      "  File \"/tmp/ipykernel_5656/988056184.py\", line 15, in get_data\n",
      "    j, sim, col_web = sims[0]\n",
      "IndexError: list index out of range\n",
      "100%|██████████| 8853/8853 [42:16<00:00,  3.49it/s]\n"
     ]
    },
    {
     "name": "stdout",
     "output_type": "stream",
     "text": [
      "3/5 in progress (11.csv)\n"
     ]
    },
    {
     "name": "stderr",
     "output_type": "stream",
     "text": [
      "100%|██████████| 4703/4703 [09:24<00:00,  8.33it/s]\n"
     ]
    },
    {
     "name": "stdout",
     "output_type": "stream",
     "text": [
      "4/5 in progress (12.csv)\n"
     ]
    },
    {
     "name": "stderr",
     "output_type": "stream",
     "text": [
      "100%|██████████| 5956/5956 [14:04<00:00,  7.05it/s]\n"
     ]
    }
   ],
   "source": [
    "\n",
    "procs = [Process(target=load_colony_sims, args=(g,)) for g in groups]\n",
    "for p in procs:\n",
    "    p.start()\n",
    "for p in procs:\n",
    "    p.join()"
   ]
  },
  {
   "cell_type": "code",
   "execution_count": null,
   "id": "89ce780c",
   "metadata": {},
   "outputs": [],
   "source": []
  },
  {
   "cell_type": "code",
   "execution_count": 22,
   "id": "595909c8",
   "metadata": {},
   "outputs": [
    {
     "name": "stdout",
     "output_type": "stream",
     "text": [
      "1.0\n",
      "0.7142857142857143\n",
      "0.8\n",
      "0.7692307692307693\n",
      "0.7692307692307693\n",
      "0.625\n",
      "0.13333333333333333\n"
     ]
    }
   ],
   "source": [
    "\n",
    "# print(similar(\"angel\", \"angel\"))\n",
    "# print(similar(\"angel\", \"a n g e l\"))\n",
    "# print(similar(\"angel\", \"Angel\"))\n",
    "# print(similar(\"angel\", \"angelito\"))\n",
    "# print(similar(\"angel\", \"arcangel\"))\n",
    "# print(similar(\"angel\", \"angelopolis\"))\n",
    "# print(similar(\"angel\", \"carburador\"))\n",
    "\n"
   ]
  },
  {
   "cell_type": "code",
   "execution_count": 27,
   "id": "b2d77827",
   "metadata": {},
   "outputs": [
    {
     "name": "stdout",
     "output_type": "stream",
     "text": [
      "0/7 in progress (14.csv)\n"
     ]
    },
    {
     "name": "stderr",
     "output_type": "stream",
     "text": [
      "  0%|          | 0/6169 [00:00<?, ?it/s]\n"
     ]
    },
    {
     "ename": "IndexError",
     "evalue": "list index out of range",
     "output_type": "error",
     "traceback": [
      "\u001b[0;31m---------------------------------------------------------------------------\u001b[0m",
      "\u001b[0;31mIndexError\u001b[0m                                Traceback (most recent call last)",
      "\u001b[0;32m/tmp/ipykernel_5656/1367303305.py\u001b[0m in \u001b[0;36m<module>\u001b[0;34m\u001b[0m\n\u001b[0;32m----> 1\u001b[0;31m \u001b[0mload_colony_sims\u001b[0m\u001b[0;34m(\u001b[0m\u001b[0mfnames\u001b[0m\u001b[0;34m)\u001b[0m\u001b[0;34m\u001b[0m\u001b[0;34m\u001b[0m\u001b[0m\n\u001b[0m",
      "\u001b[0;32m/tmp/ipykernel_5656/588305664.py\u001b[0m in \u001b[0;36mload_colony_sims\u001b[0;34m(fnames, safe)\u001b[0m\n\u001b[1;32m     19\u001b[0m                 \u001b[0mprint\u001b[0m\u001b[0;34m(\u001b[0m\u001b[0me\u001b[0m\u001b[0;34m)\u001b[0m\u001b[0;34m\u001b[0m\u001b[0;34m\u001b[0m\u001b[0m\n\u001b[1;32m     20\u001b[0m         \u001b[0;32melse\u001b[0m\u001b[0;34m:\u001b[0m\u001b[0;34m\u001b[0m\u001b[0;34m\u001b[0m\u001b[0m\n\u001b[0;32m---> 21\u001b[0;31m             \u001b[0m__load_colony_sims\u001b[0m\u001b[0;34m(\u001b[0m\u001b[0mfname\u001b[0m\u001b[0;34m)\u001b[0m\u001b[0;34m\u001b[0m\u001b[0;34m\u001b[0m\u001b[0m\n\u001b[0m",
      "\u001b[0;32m/tmp/ipykernel_5656/588305664.py\u001b[0m in \u001b[0;36m__load_colony_sims\u001b[0;34m(fname)\u001b[0m\n\u001b[1;32m      3\u001b[0m     \u001b[0mvalues_sql\u001b[0m \u001b[0;34m=\u001b[0m \u001b[0;34m[\u001b[0m\u001b[0;34m(\u001b[0m\u001b[0mi\u001b[0m\u001b[0;34m,\u001b[0m \u001b[0mclean_str\u001b[0m\u001b[0;34m(\u001b[0m\u001b[0ms\u001b[0m\u001b[0;34m)\u001b[0m\u001b[0;34m)\u001b[0m \u001b[0;32mfor\u001b[0m \u001b[0mi\u001b[0m\u001b[0;34m,\u001b[0m \u001b[0ms\u001b[0m \u001b[0;32min\u001b[0m \u001b[0mvalues_sql\u001b[0m\u001b[0;34m]\u001b[0m\u001b[0;34m\u001b[0m\u001b[0;34m\u001b[0m\u001b[0m\n\u001b[1;32m      4\u001b[0m     \u001b[0mvalues_web\u001b[0m \u001b[0;34m=\u001b[0m \u001b[0;34m[\u001b[0m\u001b[0;34m(\u001b[0m\u001b[0mi\u001b[0m\u001b[0;34m,\u001b[0m \u001b[0mclean_str\u001b[0m\u001b[0;34m(\u001b[0m\u001b[0ms\u001b[0m\u001b[0;34m)\u001b[0m\u001b[0;34m)\u001b[0m \u001b[0;32mfor\u001b[0m \u001b[0mi\u001b[0m\u001b[0;34m,\u001b[0m \u001b[0ms\u001b[0m \u001b[0;32min\u001b[0m \u001b[0mvalues_web\u001b[0m\u001b[0;34m]\u001b[0m\u001b[0;34m\u001b[0m\u001b[0;34m\u001b[0m\u001b[0m\n\u001b[0;32m----> 5\u001b[0;31m     \u001b[0mdata\u001b[0m \u001b[0;34m=\u001b[0m \u001b[0mget_data\u001b[0m\u001b[0;34m(\u001b[0m\u001b[0mvalues_sql\u001b[0m\u001b[0;34m,\u001b[0m \u001b[0mvalues_web\u001b[0m\u001b[0;34m)\u001b[0m\u001b[0;34m\u001b[0m\u001b[0;34m\u001b[0m\u001b[0m\n\u001b[0m\u001b[1;32m      6\u001b[0m     \u001b[0mdf\u001b[0m \u001b[0;34m=\u001b[0m \u001b[0mpd\u001b[0m\u001b[0;34m.\u001b[0m\u001b[0mDataFrame\u001b[0m\u001b[0;34m(\u001b[0m\u001b[0mdata\u001b[0m\u001b[0;34m,\u001b[0m \u001b[0mcolumns\u001b[0m\u001b[0;34m=\u001b[0m\u001b[0;34m[\u001b[0m\u001b[0;34m'sql_id'\u001b[0m\u001b[0;34m,\u001b[0m \u001b[0;34m'colony_sql_name'\u001b[0m\u001b[0;34m,\u001b[0m \u001b[0;34m'action_string'\u001b[0m\u001b[0;34m,\u001b[0m \u001b[0;34m'knn_list'\u001b[0m\u001b[0;34m]\u001b[0m\u001b[0;34m)\u001b[0m\u001b[0;34m\u001b[0m\u001b[0;34m\u001b[0m\u001b[0m\n\u001b[1;32m      7\u001b[0m     \u001b[0mdf\u001b[0m\u001b[0;34m.\u001b[0m\u001b[0mto_csv\u001b[0m\u001b[0;34m(\u001b[0m\u001b[0;34m\"result/\"\u001b[0m \u001b[0;34m+\u001b[0m \u001b[0mfname\u001b[0m\u001b[0;34m,\u001b[0m \u001b[0mindex\u001b[0m\u001b[0;34m=\u001b[0m\u001b[0;32mFalse\u001b[0m\u001b[0;34m)\u001b[0m\u001b[0;34m\u001b[0m\u001b[0;34m\u001b[0m\u001b[0m\n",
      "\u001b[0;32m/tmp/ipykernel_5656/473445659.py\u001b[0m in \u001b[0;36mget_data\u001b[0;34m(values_sql, values_web)\u001b[0m\n\u001b[1;32m     13\u001b[0m         \u001b[0msims\u001b[0m \u001b[0;34m=\u001b[0m \u001b[0;34m[\u001b[0m\u001b[0;34m(\u001b[0m\u001b[0mj\u001b[0m\u001b[0;34m,\u001b[0m \u001b[0msimilar\u001b[0m\u001b[0;34m(\u001b[0m\u001b[0mcol_sql\u001b[0m\u001b[0;34m,\u001b[0m \u001b[0mcol_web\u001b[0m\u001b[0;34m)\u001b[0m\u001b[0;34m)\u001b[0m \u001b[0;32mfor\u001b[0m \u001b[0mj\u001b[0m\u001b[0;34m,\u001b[0m \u001b[0mcol_web\u001b[0m \u001b[0;32min\u001b[0m \u001b[0mvalues_web\u001b[0m\u001b[0;34m]\u001b[0m\u001b[0;34m\u001b[0m\u001b[0;34m\u001b[0m\u001b[0m\n\u001b[1;32m     14\u001b[0m         \u001b[0msims\u001b[0m\u001b[0;34m.\u001b[0m\u001b[0msort\u001b[0m\u001b[0;34m(\u001b[0m\u001b[0mkey\u001b[0m\u001b[0;34m=\u001b[0m\u001b[0moperator\u001b[0m\u001b[0;34m.\u001b[0m\u001b[0mitemgetter\u001b[0m\u001b[0;34m(\u001b[0m\u001b[0;36m1\u001b[0m\u001b[0;34m)\u001b[0m\u001b[0;34m,\u001b[0m \u001b[0mreverse\u001b[0m\u001b[0;34m=\u001b[0m\u001b[0;32mTrue\u001b[0m\u001b[0;34m)\u001b[0m\u001b[0;34m\u001b[0m\u001b[0;34m\u001b[0m\u001b[0m\n\u001b[0;32m---> 15\u001b[0;31m         \u001b[0mj\u001b[0m\u001b[0;34m,\u001b[0m \u001b[0msim\u001b[0m\u001b[0;34m=\u001b[0m \u001b[0msims\u001b[0m\u001b[0;34m[\u001b[0m\u001b[0;36m0\u001b[0m\u001b[0;34m]\u001b[0m\u001b[0;34m\u001b[0m\u001b[0;34m\u001b[0m\u001b[0m\n\u001b[0m\u001b[1;32m     16\u001b[0m         \u001b[0;32mif\u001b[0m \u001b[0msim\u001b[0m \u001b[0;34m==\u001b[0m \u001b[0;36m0.0\u001b[0m\u001b[0;34m:\u001b[0m\u001b[0;34m\u001b[0m\u001b[0;34m\u001b[0m\u001b[0m\n\u001b[1;32m     17\u001b[0m             \u001b[0mdata\u001b[0m\u001b[0;34m.\u001b[0m\u001b[0mappend\u001b[0m\u001b[0;34m(\u001b[0m\u001b[0;34m[\u001b[0m\u001b[0mi\u001b[0m\u001b[0;34m,\u001b[0m \u001b[0mcol_sql\u001b[0m\u001b[0;34m,\u001b[0m \u001b[0;34m\"insert\"\u001b[0m\u001b[0;34m,\u001b[0m \u001b[0msims\u001b[0m\u001b[0;34m[\u001b[0m\u001b[0;34m:\u001b[0m\u001b[0;36m5\u001b[0m\u001b[0;34m]\u001b[0m\u001b[0;34m]\u001b[0m\u001b[0;34m)\u001b[0m\u001b[0;34m\u001b[0m\u001b[0;34m\u001b[0m\u001b[0m\n",
      "\u001b[0;31mIndexError\u001b[0m: list index out of range"
     ]
    }
   ],
   "source": [
    "# load_colony_sims(fnames)"
   ]
  },
  {
   "cell_type": "code",
   "execution_count": null,
   "id": "936611f9",
   "metadata": {},
   "outputs": [],
   "source": []
  }
 ],
 "metadata": {
  "interpreter": {
   "hash": "e966e82fb3c605e4fcb54f010c309953dd9ddd50bea9aabbece184eb44f987ff"
  },
  "kernelspec": {
   "display_name": "Python 3 (ipykernel)",
   "language": "python",
   "name": "python3"
  },
  "language_info": {
   "codemirror_mode": {
    "name": "ipython",
    "version": 3
   },
   "file_extension": ".py",
   "mimetype": "text/x-python",
   "name": "python",
   "nbconvert_exporter": "python",
   "pygments_lexer": "ipython3",
   "version": "3.9.7"
  }
 },
 "nbformat": 4,
 "nbformat_minor": 5
}
