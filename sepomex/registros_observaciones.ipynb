{
 "cells": [
  {
   "cell_type": "code",
   "execution_count": 21,
   "id": "f98a8bcc",
   "metadata": {},
   "outputs": [],
   "source": [
    "\n",
    "\n",
    "import pandas as pd\n",
    "import os\n",
    "import mysql.connector\n",
    "\n",
    "from decimal import getcontext\n",
    "from enum import unique\n",
    "from string import printable\n",
    "from mysql.connector import Error\n",
    "from tqdm import tqdm\n",
    "from pprint import pprint\n"
   ]
  },
  {
   "cell_type": "code",
   "execution_count": null,
   "id": "1924627d",
   "metadata": {},
   "outputs": [],
   "source": [
    "\n",
    "# %pip install Unidecode nltk "
   ]
  },
  {
   "cell_type": "code",
   "execution_count": 22,
   "id": "494e1adf",
   "metadata": {},
   "outputs": [],
   "source": [
    "\n",
    "\n",
    "def get_conn():\n",
    "    return mysql.connector.connect(\n",
    "            host='192.168.0.217',\n",
    "            database='propiedades',\n",
    "            user='root',\n",
    "            password='propiedades')\n",
    "\n",
    "def test_connection():\n",
    "    try:\n",
    "        connection = get_conn()\n",
    "        if connection.is_connected():\n",
    "            db_Info = connection.get_server_info()\n",
    "            print(\"Connected to MySQL Server version \", db_Info)\n",
    "            cursor = connection.cursor()\n",
    "            cursor.execute(\"select database();\")\n",
    "            record = cursor.fetchone()\n",
    "            print(\"You're connected to database: \", record)\n",
    "    except Error as e:\n",
    "        print(\"Error while connecting to MySQL\", e)\n",
    "    finally:\n",
    "        if connection.is_connected():\n",
    "            cursor.close()\n",
    "            connection.close()\n",
    "            print(\"MySQL connection is closed\")\n",
    "\n",
    "\n",
    "connection = get_conn()\n",
    "cursor = connection.cursor()\n",
    "\n",
    "\n",
    "def read_all(query, cursor=cursor):\n",
    "    cursor.execute(query)\n",
    "    return cursor.fetchall()\n",
    "\n",
    "def print_all(query, cursor=cursor):\n",
    "    records = read_all(query, cursor)\n",
    "    pprint(records)\n"
   ]
  },
  {
   "cell_type": "code",
   "execution_count": 23,
   "id": "a67f848e",
   "metadata": {},
   "outputs": [],
   "source": [
    "\n",
    "\n",
    "# unique_states = [('Tamaulipas',), ('México',), ('Sinaloa',), ('Campeche',), ('DF / CDMX',), ('Coahuila de Zaragoza',), ('Chihuahua',), ('Durango',), ('Jalisco',), ('Colima',), ('Veracruz de Ignacio de la Llave',), ('Guanajuato',), ('Puebla',), ('Sonora',), ('Oaxaca',), (None,), ('Chiapas',), ('Quintana Roo',), ('Michoacán de Ocampo',), ('Baja California Sur',), ('Aguascalientes',), ('Baja California',), ('Yucatán',), ('Nayarit',), ('Guerrero',), ('Morelos',), ('Nuevo León',), ('Querétaro',), ('Hidalgo',), ('Tlaxcala',), ('Tabasco',), ('San Luis Potosí',), ('Zacatecas',), ('Distrito Federal',)]\n",
    "unique_states = read_all(\"SELECT DISTINCT state FROM sepomex\", cursor)\n",
    "result = read_all('DESC sepomex', cursor)\n",
    "fields = [t[0] for t in result]\n"
   ]
  },
  {
   "cell_type": "code",
   "execution_count": 106,
   "id": "823beba0",
   "metadata": {},
   "outputs": [],
   "source": [
    "unique_states.sort()"
   ]
  },
  {
   "cell_type": "code",
   "execution_count": null,
   "id": "7fa13378",
   "metadata": {},
   "outputs": [],
   "source": [
    "import nltk\n",
    "import unidecode\n",
    "import operator\n",
    "\n",
    "from nltk.corpus import stopwords\n",
    "from difflib import SequenceMatcher\n",
    "\n",
    "\n",
    "def similar(a, b):\n",
    "    return SequenceMatcher(None, a, b).ratio()\n",
    "\n",
    "\n",
    "nltk.download(\"stopwords\")\n",
    "stopwords = stopwords.words('spanish')"
   ]
  },
  {
   "cell_type": "code",
   "execution_count": 25,
   "id": "712976d1",
   "metadata": {},
   "outputs": [
    {
     "name": "stderr",
     "output_type": "stream",
     "text": [
      "Zacatecas: 100%|██████████| 32/32 [15:18<00:00, 28.69s/it]                      \n"
     ]
    }
   ],
   "source": [
    "\n",
    "def download_csv_from_mysql(cursor, unique_states, fields):\n",
    "    n = len(unique_states)\n",
    "    pbar = tqdm(enumerate(unique_states), total=n)\n",
    "    for i, state in pbar:\n",
    "        state = state[0]\n",
    "        query = f\"SELECT {', '.join(fields)} FROM sepomex WHERE state = '{state}'\"\n",
    "        res = read_all(query, cursor)\n",
    "        df = pd.DataFrame(data=res)\n",
    "        df.columns = fields\n",
    "        df.to_csv(f\"csv/{i}.csv\", index=False)\n",
    "        pbar.set_description(state)\n",
    "\n",
    "\n",
    "download_csv_from_mysql(cursor, unique_states, fields)"
   ]
  },
  {
   "cell_type": "code",
   "execution_count": null,
   "id": "2af3ce0c",
   "metadata": {},
   "outputs": [],
   "source": [
    "\n",
    "# Permanently changes the pandas settings\n",
    "pd.set_option('display.max_rows', None)\n",
    "pd.set_option('display.max_columns', None)\n",
    "pd.set_option('display.width', None)\n",
    "pd.set_option('display.max_colwidth', None)"
   ]
  },
  {
   "cell_type": "code",
   "execution_count": 115,
   "id": "b98ab18a",
   "metadata": {},
   "outputs": [],
   "source": [
    "\n",
    "def get_df_from_sources(partition_fname):\n",
    "    cols = ['id', 'colony']\n",
    "    df_sql = pd.read_csv(partition_fname)\n",
    "    values_sql = df_sql[~df_sql['colony'].isnull()][cols].values\n",
    "\n",
    "    state_label = df_sql.loc[0,'state']\n",
    "\n",
    "    df_web = pd.read_csv(\"./CPdescarga.csv\", sep=\"|\", encoding='utf8')\n",
    "    subset = df_web[df_web[\"d_estado\"] == state_label]\n",
    "    cols = ['d_codigo', 'd_asenta']\n",
    "    values_web = subset[cols].values\n",
    "\n",
    "    return values_sql, values_web\n"
   ]
  },
  {
   "cell_type": "code",
   "execution_count": 108,
   "id": "d00d7a60",
   "metadata": {},
   "outputs": [],
   "source": [
    "\n",
    "def clean_str(s):\n",
    "    s = s.lower()\n",
    "    tokens = s.split(' ')\n",
    "    new_s = [t for t in tokens if not t in stopwords]\n",
    "    s = ' '.join(new_s)\n",
    "    return unidecode.unidecode(s)\n",
    "\n",
    "\n"
   ]
  },
  {
   "cell_type": "code",
   "execution_count": 109,
   "id": "cf08f826",
   "metadata": {},
   "outputs": [
    {
     "name": "stderr",
     "output_type": "stream",
     "text": [
      "100%|██████████| 1715/1715 [02:43<00:00, 10.51it/s]\n"
     ]
    }
   ],
   "source": [
    "\n",
    "def get_data(values_sql, values_web):\n",
    "    threshold = 0.8\n",
    "    data = []  # idsql, idweb, new|update\n",
    "    pbar = tqdm(values_sql, total=len(values_sql))\n",
    "    for i, col_sql in pbar:\n",
    "        sims = [(j, similar(col_sql, col_web)) for j, col_web in values_web]\n",
    "        sims.sort(key=operator.itemgetter(1), reverse=True)\n",
    "        j, sim= sims[0]\n",
    "        if sim == 0.0:  \n",
    "            data.append([i, col_sql, \"insert\", sims[:5]])\n",
    "        elif 1 > sim and sim > threshold:\n",
    "            data.append([i, col_sql, \"update\", sims[:5]])\n",
    "\n"
   ]
  },
  {
   "cell_type": "code",
   "execution_count": 118,
   "id": "243b810e",
   "metadata": {},
   "outputs": [
    {
     "name": "stdout",
     "output_type": "stream",
     "text": [
      "0/32 in progress\n"
     ]
    },
    {
     "name": "stderr",
     "output_type": "stream",
     "text": [
      "100%|██████████| 1299/1299 [01:38<00:00, 13.21it/s]\n"
     ]
    },
    {
     "name": "stdout",
     "output_type": "stream",
     "text": [
      "1/32 in progress\n"
     ]
    },
    {
     "name": "stderr",
     "output_type": "stream",
     "text": [
      "100%|██████████| 2228/2228 [05:50<00:00,  6.36it/s]\n"
     ]
    },
    {
     "name": "stdout",
     "output_type": "stream",
     "text": [
      "2/32 in progress\n"
     ]
    },
    {
     "name": "stderr",
     "output_type": "stream",
     "text": [
      " 14%|█▎        | 1204/8853 [12:19<1:26:32,  1.47it/s]"
     ]
    }
   ],
   "source": [
    "\n",
    "fnames = os.listdir('csv')\n",
    "n = len(fnames)\n",
    "for k, fname in enumerate(fnames):\n",
    "    print(\"%d/%d in progress\" % (k, n))\n",
    "    values_sql, values_web = get_df_from_sources(\"csv/\" + fname)\n",
    "    values_sql = [(i, clean_str(s)) for i, s in values_sql]\n",
    "    values_web = [(i, clean_str(s)) for i, s in values_web]\n",
    "    data = get_data(values_sql, values_web)\n",
    "    df = pd.DataFrame(data, columns=['sql_id', 'colony_sql_name', 'action_string', 'knn_list'])\n",
    "    df.to_csv(\"result/\" + fname, index=False)"
   ]
  },
  {
   "cell_type": "code",
   "execution_count": 110,
   "id": "8a32c787",
   "metadata": {},
   "outputs": [],
   "source": []
  },
  {
   "cell_type": "code",
   "execution_count": null,
   "id": "595909c8",
   "metadata": {},
   "outputs": [
    {
     "data": {
      "text/plain": [
       "0.13333333333333333"
      ]
     },
     "execution_count": 111,
     "metadata": {},
     "output_type": "execute_result"
    }
   ],
   "source": [
    "\n",
    "print(similar(\"angel\", \"angel\"))\n",
    "print(similar(\"angel\", \"a n g e l\"))\n",
    "print(similar(\"angel\", \"Angel\"))\n",
    "print(similar(\"angel\", \"angelito\"))\n",
    "print(similar(\"angel\", \"arcangel\"))\n",
    "print(similar(\"angel\", \"angelopolis\"))\n",
    "print(similar(\"angel\", \"carburador\"))\n",
    "\n"
   ]
  },
  {
   "cell_type": "code",
   "execution_count": null,
   "id": "b2d77827",
   "metadata": {},
   "outputs": [],
   "source": []
  }
 ],
 "metadata": {
  "interpreter": {
   "hash": "e966e82fb3c605e4fcb54f010c309953dd9ddd50bea9aabbece184eb44f987ff"
  },
  "kernelspec": {
   "display_name": "Python 3.9.7 ('base')",
   "language": "python",
   "name": "python3"
  },
  "language_info": {
   "codemirror_mode": {
    "name": "ipython",
    "version": 3
   },
   "file_extension": ".py",
   "mimetype": "text/x-python",
   "name": "python",
   "nbconvert_exporter": "python",
   "pygments_lexer": "ipython3",
   "version": "3.9.7"
  }
 },
 "nbformat": 4,
 "nbformat_minor": 5
}
