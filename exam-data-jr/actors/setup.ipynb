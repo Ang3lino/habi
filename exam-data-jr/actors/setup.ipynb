{
 "cells": [
  {
   "cell_type": "code",
   "execution_count": null,
   "id": "3c0de312",
   "metadata": {},
   "outputs": [],
   "source": []
  },
  {
   "cell_type": "markdown",
   "id": "a270790f",
   "metadata": {},
   "source": [
    "# Examen\n",
    "Ing. Angel Lopez Manriquez\n",
    "\n",
    "En este cuaderno se muestran las primeras ideas que tuve al ver las reglas de negocio con algunas cosas que se asumieron.\n",
    "\n",
    "Se creo una base de datos en MySQL con dos relaciones, *actor(id: int, name: str)* de la segunda hoja del excel, donde se asume que el indice dado corresponde a la llave primaria y no tiene cambios en el excel. Otra relacion *actor_relation(id: int, actor_id: int)* la cual guarda unicamente los valores *(i, j)* que indica que *i* esta relacionado con *j* (se asumio que la matriz representa un DAG).\n",
    "\n",
    "En el codigo no se guarda un historico de los valores previos, solo se actualizan los valores, aunque en dagster si que se guardan logs de las operaciones realizadas. Si se hubiera querido guardar los valores se pudieron haber creado fragmentos en la base (creacion dinamica de relaciones) con la fecha de corte o la anidacion del cambio de fecha en las tablas.\n",
    "\n",
    "Se pudo haber usado Spark, sin embargo el volumen de datos no lo ameritaba."
   ]
  },
  {
   "cell_type": "code",
   "execution_count": 1,
   "metadata": {},
   "outputs": [],
   "source": [
    "import pandas as pd\n",
    "import os\n",
    "import pymysql\n",
    "\n",
    "\n",
    "from collections import defaultdict\n",
    "from scipy.sparse import csr_matrix\n"
   ]
  },
  {
   "cell_type": "code",
   "execution_count": 119,
   "id": "54571e32",
   "metadata": {},
   "outputs": [],
   "source": [
    "def load_excel(fname: str) -> pd.ExcelFile:\n",
    "    '''Se lee el excel.'''\n",
    "    # return pd.ExcelFile(os.path.join('actors', 'resources', fname))\n",
    "    return pd.ExcelFile(os.path.join('resources', fname))\n",
    "\n",
    "\n",
    "fname = 'Matriz_de_adyacencia_data_team.xlsx'\n",
    "xls = load_excel(fname)"
   ]
  },
  {
   "cell_type": "code",
   "execution_count": 120,
   "id": "5c47a38b",
   "metadata": {},
   "outputs": [],
   "source": [
    "def get_actors(xls: pd.ExcelFile) -> list:\n",
    "    '''Se obtienen los actores.'''\n",
    "    df = pd.read_excel(xls, 'Lista de actores', header=3, usecols=\"C\")\n",
    "    return df.values.squeeze().tolist()\n",
    "\n",
    "\n",
    "actors = get_actors(xls)"
   ]
  },
  {
   "cell_type": "code",
   "execution_count": 131,
   "id": "80e9b9f2",
   "metadata": {},
   "outputs": [
    {
     "data": {
      "text/plain": [
       "array([[0, 0, 0, 0, 0, 1, 0, 0, 0, 1, 0, 0, 0, 0, 0, 0, 0, 0, 0, 0, 0, 0,\n",
       "        0, 0, 0, 0, 0, 0, 1, 0, 1, 1, 1, 1, 1, 0, 0, 0, 0, 0, 0, 0, 0, 0,\n",
       "        0, 0, 0, 0, 0, 0],\n",
       "       [0, 0, 0, 0, 0, 0, 0, 0, 0, 0, 0, 0, 1, 1, 0, 0, 0, 0, 0, 0, 0, 1,\n",
       "        1, 0, 0, 0, 0, 0, 0, 0, 0, 0, 0, 0, 0, 0, 0, 0, 0, 0, 0, 0, 0, 0,\n",
       "        0, 0, 0, 0, 0, 0],\n",
       "       [0, 0, 0, 1, 1, 1, 1, 1, 1, 1, 1, 1, 1, 0, 0, 0, 0, 0, 0, 0, 0, 0,\n",
       "        0, 0, 0, 0, 0, 0, 0, 0, 0, 0, 0, 0, 0, 0, 0, 0, 0, 0, 0, 0, 0, 0,\n",
       "        0, 0, 0, 0, 0, 0],\n",
       "       [0, 0, 1, 0, 1, 1, 1, 1, 1, 1, 1, 1, 1, 1, 0, 0, 0, 0, 0, 0, 0, 0,\n",
       "        0, 0, 0, 0, 0, 0, 0, 0, 0, 0, 0, 0, 0, 0, 0, 0, 0, 0, 0, 0, 0, 0,\n",
       "        0, 0, 0, 0, 0, 0],\n",
       "       [0, 0, 1, 1, 0, 1, 1, 1, 1, 1, 1, 1, 1, 0, 0, 0, 0, 0, 0, 0, 0, 0,\n",
       "        0, 0, 0, 0, 0, 0, 0, 0, 0, 0, 0, 0, 0, 0, 0, 0, 0, 0, 0, 0, 0, 0,\n",
       "        0, 0, 0, 0, 0, 0]], dtype=object)"
      ]
     },
     "execution_count": 131,
     "metadata": {},
     "output_type": "execute_result"
    }
   ],
   "source": [
    "\n",
    "\n",
    "def get_matrix_from_excel(xls: pd.ExcelFile):\n",
    "    '''\n",
    "    se carga la matrix dispersa o bien matriz de adyacencia, se asume que\n",
    "    se representa un DAG\n",
    "    '''\n",
    "    df = pd.read_excel(xls, sheet_name='Matriz de adyacencia')\n",
    "    return df.iloc[1:, 2:].values\n",
    "\n",
    "\n",
    "m = len(actors)\n",
    "matrix = get_matrix_from_excel(xls)\n",
    "assert matrix.shape == (m, m)  # pytest, se espera una matriz cuadrada\n",
    "matrix[:5]  "
   ]
  },
  {
   "cell_type": "code",
   "execution_count": 134,
   "id": "6f9cbda8",
   "metadata": {},
   "outputs": [],
   "source": [
    "\n",
    "def dense_matrix_as_defaultdict(mat) -> defaultdict:\n",
    "    ''' Se cargan los valores que se ocupan, (i, j) -> 1 donde i se relaciona con j\n",
    "    '''\n",
    "    result = defaultdict(set)\n",
    "    m = mat.shape[0]\n",
    "    for i in range(m):\n",
    "        for j in range(i, m):  # empieza en i para no rebuscar\n",
    "            if mat[i][j] == 1:  # ignora 0, np.nan\n",
    "                result[i + 1].add(j + 1)\n",
    "    return result\n",
    "\n",
    "\n",
    "new_table = dense_matrix_as_defaultdict(matrix)"
   ]
  },
  {
   "cell_type": "markdown",
   "id": "b875c3fa",
   "metadata": {},
   "source": [
    "# Mysql\n",
    "A partir de aqui, se hacen consultas con el controlador para MySQL.\n"
   ]
  },
  {
   "cell_type": "code",
   "execution_count": 7,
   "id": "d3e0e5ef",
   "metadata": {},
   "outputs": [],
   "source": [
    "conn = pymysql.connect(\n",
    "        host=\"localhost\", user=\"root\", password=\"root\", database=\"actors\", port=3306)\n",
    "cursor = conn.cursor()"
   ]
  },
  {
   "cell_type": "code",
   "execution_count": 6,
   "id": "6bd3fb07",
   "metadata": {},
   "outputs": [
    {
     "data": {
      "text/plain": [
       "3306"
      ]
     },
     "execution_count": 6,
     "metadata": {},
     "output_type": "execute_result"
    }
   ],
   "source": [
    "conn.port"
   ]
  },
  {
   "cell_type": "code",
   "execution_count": 124,
   "id": "b0e60d43",
   "metadata": {},
   "outputs": [
    {
     "name": "stdout",
     "output_type": "stream",
     "text": [
      "Ya se cargaron previamente los actores (0,Helena Durán Crane)\n",
      "(1062, \"Duplicate entry '1' for key 'actor.PRIMARY'\")\n"
     ]
    }
   ],
   "source": [
    "def load_actors(conn, actors) -> None:\n",
    "    '''Se cargan los actores dada una lista de actores List[Tuple[int, str]]. \n",
    "    Se asume que la hoja de los actores con su nombre no cambia por lo que la funcionalidad \n",
    "    de esta funcion en teoria solo corre una vez.'''\n",
    "    cursor = conn.cursor()\n",
    "    conn.begin()\n",
    "    try:\n",
    "        for i, name in enumerate(actors):\n",
    "            cursor.callproc('usp_actor_add', (i + 1, name))\n",
    "        conn.commit()\n",
    "    except Exception as e:\n",
    "        print(\"Ya se cargaron previamente los actores (%s,%s)\" % (i + 1, name))\n",
    "        print(e)\n",
    "\n",
    "\n",
    "load_actors(conn, actors)"
   ]
  },
  {
   "cell_type": "code",
   "execution_count": 106,
   "id": "472be5f8",
   "metadata": {},
   "outputs": [],
   "source": [
    "def write(cursor, query, args=None):\n",
    "    if args:\n",
    "        cursor.execute(query, args)\n",
    "    else:\n",
    "        cursor.execute(query)\n",
    "\n",
    "def read(cursor, query):\n",
    "    cursor.execute(query)\n",
    "    return cursor.fetchall()\n"
   ]
  },
  {
   "cell_type": "code",
   "execution_count": 135,
   "id": "18da0fb2",
   "metadata": {},
   "outputs": [],
   "source": [
    "\n",
    "def get_old_table(cursor) -> defaultdict:\n",
    "    '''Cargamos los valores (i, j) de la relacion actual.'''\n",
    "    result = read(cursor, \"SELECT id, actor_id FROM actor_relation\")\n",
    "    relations = defaultdict(set)\n",
    "    for i, j in result:\n",
    "        relations[i].add(j)\n",
    "    return relations\n",
    "\n",
    "\n",
    "old_table = get_old_table(cursor)"
   ]
  },
  {
   "cell_type": "code",
   "execution_count": 127,
   "id": "816e6c4b",
   "metadata": {},
   "outputs": [],
   "source": [
    "import random\n",
    "\n",
    "\n",
    "def get_random_table(a, b) -> defaultdict:\n",
    "    '''Generamos un defaultdict aleatorio dentro de los rangos de la matriz creada con el fin \n",
    "    de probar nuestra funcionalidad.'''\n",
    "    new_table = defaultdict(set)\n",
    "    for i in range(a, b + 1):\n",
    "        for j in range(6):\n",
    "            new_table[i].add(random.randint(a, b))\n",
    "    return new_table\n",
    "\n",
    "a, b = 1, 50\n",
    "new_table = get_random_table(1, 50)"
   ]
  },
  {
   "cell_type": "markdown",
   "id": "d0f1d87b",
   "metadata": {},
   "source": [
    "Se muestran las supuestas tablas, la relacion actual y la relacion por ser reemplazada."
   ]
  },
  {
   "cell_type": "code",
   "execution_count": 136,
   "id": "9636f293",
   "metadata": {},
   "outputs": [
    {
     "name": "stdout",
     "output_type": "stream",
     "text": [
      "{3, 38, 8, 14, 20}\n",
      "{45, 14, 19, 22, 23, 24, 25, 26}\n"
     ]
    }
   ],
   "source": [
    "i = 13\n",
    "print(old_table[i])\n",
    "print(new_table[i])"
   ]
  },
  {
   "cell_type": "markdown",
   "id": "328ce6b7",
   "metadata": {},
   "source": [
    "Este es el ejemplo de una fila, donde se muestran los valores a borrar y los nuevos valores a insertar. Los valores sin cambio permanecen."
   ]
  },
  {
   "cell_type": "code",
   "execution_count": 137,
   "id": "1d7bf986",
   "metadata": {},
   "outputs": [
    {
     "name": "stdout",
     "output_type": "stream",
     "text": [
      "13\n"
     ]
    },
    {
     "data": {
      "text/plain": [
       "({3, 8, 20, 38}, {19, 22, 23, 24, 25, 26, 45})"
      ]
     },
     "execution_count": 137,
     "metadata": {},
     "output_type": "execute_result"
    }
   ],
   "source": [
    "a, b = old_table[i], new_table[i]\n",
    "deprecated = a - b\n",
    "new_relations = b - a\n",
    "print(i)\n",
    "deprecated, new_relations"
   ]
  },
  {
   "cell_type": "markdown",
   "id": "c4b0bd90",
   "metadata": {},
   "source": [
    "esta funcion hace lo anterior para todas"
   ]
  },
  {
   "cell_type": "code",
   "execution_count": 132,
   "id": "756f435a",
   "metadata": {},
   "outputs": [],
   "source": [
    "def update_relations(conn, old_table: defaultdict, new_table: defaultdict(set)) -> None:\n",
    "    conn.begin()\n",
    "    cursor = conn.cursor()\n",
    "    idx = set(old_table.keys()) | set(new_table.keys())  # barre sobre cualquier cambio significativo en fila\n",
    "    for i in idx:\n",
    "        a, b = old_table[i], new_table[i]\n",
    "        old_row = a - b  \n",
    "        new_row = b - a\n",
    "        for j in old_row:\n",
    "            write(cursor, \"DELETE FROM actor_relation WHERE id = %s AND actor_id = %s\", (i, j))\n",
    "        for j in new_row:\n",
    "            cursor.callproc('usp_actor_relation_add', (i, j))\n",
    "    conn.commit()\n",
    "    "
   ]
  },
  {
   "cell_type": "code",
   "execution_count": 138,
   "id": "e80cf50e",
   "metadata": {},
   "outputs": [
    {
     "name": "stdout",
     "output_type": "stream",
     "text": [
      "CPU times: user 23.9 ms, sys: 8.19 ms, total: 32.1 ms\n",
      "Wall time: 818 ms\n"
     ]
    }
   ],
   "source": [
    "%time update_relations(conn, old_table, new_table)"
   ]
  },
  {
   "cell_type": "code",
   "execution_count": null,
   "id": "9399f809",
   "metadata": {},
   "outputs": [],
   "source": []
  }
 ],
 "metadata": {
  "interpreter": {
   "hash": "63462b69cdf430551b7bbc16e245dbe2442bd818ae5bd6456f12f00dcc9e344e"
  },
  "kernelspec": {
   "display_name": "Python 3.7.11 64-bit ('pyspark_env': conda)",
   "language": "python",
   "name": "python3"
  },
  "language_info": {
   "codemirror_mode": {
    "name": "ipython",
    "version": 3
   },
   "file_extension": ".py",
   "mimetype": "text/x-python",
   "name": "python",
   "nbconvert_exporter": "python",
   "pygments_lexer": "ipython3",
   "version": "3.7.11"
  }
 },
 "nbformat": 4,
 "nbformat_minor": 5
}
