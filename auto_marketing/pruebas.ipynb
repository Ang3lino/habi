{
  "cells": [
    {
      "cell_type": "code",
      "execution_count": 11,
      "metadata": {},
      "outputs": [
        {
          "name": "stdout",
          "output_type": "stream",
          "text": [
            "The autoreload extension is already loaded. To reload it, use:\n",
            "  %reload_ext autoreload\n"
          ]
        }
      ],
      "source": [
        "\n",
        "%load_ext autoreload\n",
        "%autoreload 2\n",
        "\n",
        "from IPython import display"
      ]
    },
    {
      "cell_type": "code",
      "execution_count": 12,
      "metadata": {},
      "outputs": [],
      "source": [
        "\n",
        "import zipfile\n",
        "import os\n",
        "import google.auth\n",
        "import pandas as pd\n",
        "\n",
        "from tqdm import tqdm\n",
        "from google.cloud import bigquery\n",
        "from pprint import pprint\n",
        "from datetime import datetime\n",
        "from zipfile import ZipFile\n",
        "from google.cloud import bigquery\n",
        "\n",
        "from mailer import Mailer\n",
        "from queries_dict import names_queries\n",
        "from read_secret import read_secret"
      ]
    },
    {
      "cell_type": "code",
      "execution_count": 13,
      "metadata": {},
      "outputs": [
        {
          "data": {
            "text/plain": [
              "datetime.datetime(2022, 6, 2, 16, 37, 5, 933754)"
            ]
          },
          "execution_count": 13,
          "metadata": {},
          "output_type": "execute_result"
        }
      ],
      "source": [
        "datetime.today() "
      ]
    },
    {
      "cell_type": "code",
      "execution_count": 14,
      "metadata": {},
      "outputs": [],
      "source": [
        "retrieve_dict = lambda country: {k:v for k, v in names_queries.items() if k.endswith(country)}\n",
        "d_col = retrieve_dict(\"col\")\n",
        "d_mx = retrieve_dict(\"mx\")"
      ]
    },
    {
      "cell_type": "code",
      "execution_count": 15,
      "metadata": {},
      "outputs": [],
      "source": [
        "\n",
        "def run_queries(names_queries, client):\n",
        "    d = dict()\n",
        "    n = len(names_queries)\n",
        "    pbar = tqdm(names_queries.items(), total=n, position=0)\n",
        "    for name, query in pbar:\n",
        "        try:\n",
        "            query_job = client.query(query)\n",
        "            df = query_job.to_dataframe()\n",
        "            d[name] = df \n",
        "        except Exception as e:\n",
        "            print('[!]' + str(e) + name)\n",
        "            d[name] = pd.DataFrame()\n",
        "    return d\n",
        "    "
      ]
    },
    {
      "cell_type": "code",
      "execution_count": 16,
      "metadata": {},
      "outputs": [],
      "source": [
        "\n",
        "\n",
        "credentials, project = google.auth.default(\n",
        "     scopes=[\n",
        "        \"https://www.googleapis.com/auth/cloud-platform\",\n",
        "         \"https://www.googleapis.com/auth/drive\",\n",
        "         \"https://www.googleapis.com/auth/bigquery\",\n",
        "     ]\n",
        ")\n",
        "\n",
        "# client = bigquery.Client(project=\"papyrus-data\")\n",
        "client = bigquery.Client(credentials=credentials, project=project)"
      ]
    },
    {
      "cell_type": "code",
      "execution_count": 17,
      "metadata": {},
      "outputs": [
        {
          "name": "stdout",
          "output_type": "stream",
          "text": [
            "fetching col rows\n"
          ]
        },
        {
          "name": "stderr",
          "output_type": "stream",
          "text": [
            "100%|██████████| 5/5 [00:57<00:00, 11.44s/it]\n"
          ]
        },
        {
          "name": "stdout",
          "output_type": "stream",
          "text": [
            "fetching mex rows\n"
          ]
        },
        {
          "name": "stderr",
          "output_type": "stream",
          "text": [
            "100%|██████████| 5/5 [00:14<00:00,  2.85s/it]\n"
          ]
        }
      ],
      "source": [
        "print(\"fetching col rows\")\n",
        "res_col = run_queries(d_col, client)\n",
        "print(\"fetching mex rows\")\n",
        "res_mex = run_queries(d_mx, client)"
      ]
    },
    {
      "cell_type": "code",
      "execution_count": 18,
      "metadata": {},
      "outputs": [],
      "source": [
        "# credentials, project = google.auth.default(\n",
        "#      scopes=[\n",
        "#         \"https://www.googleapis.com/auth/cloud-platform\",\n",
        "#          \"https://www.googleapis.com/auth/drive\",\n",
        "#          \"https://www.googleapis.com/auth/bigquery\",\n",
        "#      ]\n",
        "# )\n",
        "# # client = bigquery.Client(project=\"papyrus-data\")\n",
        "# client = bigquery.Client(credentials=credentials, project=project)\n",
        "# query = d_col['calificados_fuente_col']\n",
        "# job = client.query(query)\n",
        "# job.to_dataframe()"
      ]
    },
    {
      "cell_type": "code",
      "execution_count": 19,
      "metadata": {},
      "outputs": [
        {
          "name": "stdout",
          "output_type": "stream",
          "text": [
            "cierres_col (3126, 5)\n",
            "calificados_fuente_col (438576, 4)\n",
            "calificados_totales_col (1112, 4)\n",
            "fuentes_web_col (143964, 4)\n",
            "ventanas_col (1382, 4)\n",
            "ventanas_mx (119458, 5)\n",
            "calificados_fuente_web_mx (271, 5)\n",
            "calificados_todas_las_fuentes_mx (271, 5)\n",
            "fuente_web_mx (32667, 5)\n",
            "cierres_mx (400, 5)\n"
          ]
        }
      ],
      "source": [
        "d = {**res_col, **res_mex}\n",
        "errors = []\n",
        "\n",
        "for f in os.listdir(\"csv\"):\n",
        "    os.remove(os.path.join(\"csv\", f))\n",
        "os.rmdir(\"csv\")\n",
        "os.mkdir(\"csv\")\n",
        "\n",
        "for k, v in d.items():\n",
        "    if v.empty:\n",
        "        errors.append(k)\n",
        "    else:\n",
        "        print(k, v.shape)\n",
        "        fname = f\"csv/{k}.csv\"\n",
        "        v.to_csv(fname)\n",
        "\n",
        "\n",
        "with ZipFile(\"csv.zip\", \"w\", zipfile.ZIP_DEFLATED) as fp:\n",
        "    for file in os.listdir(\"csv\"):\n",
        "        fp.write(f\"csv/{file}\")"
      ]
    },
    {
      "cell_type": "code",
      "execution_count": null,
      "metadata": {},
      "outputs": [],
      "source": []
    },
    {
      "cell_type": "code",
      "execution_count": 20,
      "metadata": {},
      "outputs": [],
      "source": [
        "MY_MAIL = 'angel.manriquez.habi@gmail.com'\n",
        "MY_PASSWD = read_secret(\"papyrus-data-mx\", \"papyrus-data-mx-angel-marketing\")\n",
        "target_mail = \"angellopez@tuhabi.mx\""
      ]
    },
    {
      "cell_type": "code",
      "execution_count": 21,
      "metadata": {},
      "outputs": [
        {
          "name": "stderr",
          "output_type": "stream",
          "text": [
            "100%|██████████| 1/1 [00:00<00:00,  3.73it/s]\n"
          ]
        },
        {
          "data": {
            "text/plain": [
              "True"
            ]
          },
          "execution_count": 21,
          "metadata": {},
          "output_type": "execute_result"
        }
      ],
      "source": [
        "\n",
        "mailer = Mailer(MY_MAIL, MY_PASSWD)\n",
        "mailer.sendMessage(target_mail, ['csv.zip'], \"Aqui tienes las consultas del mes.\", \"automatizacion envio de consultas\")"
      ]
    },
    {
      "cell_type": "code",
      "execution_count": 22,
      "metadata": {},
      "outputs": [],
      "source": [
        "if errors:\n",
        "    with open(\"error.log\", 'w') as fp:\n",
        "        for e in errors:\n",
        "            fp.write(e + \"\\n\")\n",
        "\n",
        "    mailer.sendMessage(\"angellopez@tuhabi.mx\", [\"error.log\"], \"Listado de consultas con observaciones.\", \"Errores marketing automatizacion\")"
      ]
    },
    {
      "cell_type": "code",
      "execution_count": null,
      "metadata": {},
      "outputs": [],
      "source": []
    },
    {
      "cell_type": "code",
      "execution_count": null,
      "metadata": {},
      "outputs": [],
      "source": []
    },
    {
      "cell_type": "code",
      "execution_count": null,
      "metadata": {},
      "outputs": [],
      "source": []
    }
  ],
  "metadata": {
    "colab": {
      "collapsed_sections": [],
      "name": "Te damos la bienvenida a Colaboratory",
      "provenance": [],
      "toc_visible": true
    },
    "interpreter": {
      "hash": "e966e82fb3c605e4fcb54f010c309953dd9ddd50bea9aabbece184eb44f987ff"
    },
    "kernelspec": {
      "display_name": "Python 3.9.7 ('base')",
      "language": "python",
      "name": "python3"
    },
    "language_info": {
      "codemirror_mode": {
        "name": "ipython",
        "version": 3
      },
      "file_extension": ".py",
      "mimetype": "text/x-python",
      "name": "python",
      "nbconvert_exporter": "python",
      "pygments_lexer": "ipython3",
      "version": "3.9.7"
    }
  },
  "nbformat": 4,
  "nbformat_minor": 0
}
